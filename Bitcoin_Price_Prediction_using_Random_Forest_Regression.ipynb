{
 "cells": [
  {
   "cell_type": "code",
   "execution_count": 1,
   "id": "0f040352",
   "metadata": {},
   "outputs": [],
   "source": [
    "# Import necessary libraries\n",
    "import yfinance as yf\n",
    "import pandas as pd\n",
    "from sklearn.model_selection import train_test_split\n",
    "from sklearn.ensemble import RandomForestRegressor\n",
    "from sklearn.metrics import mean_absolute_percentage_error, mean_squared_error\n",
    "import numpy as np\n",
    "import matplotlib.pyplot as plt"
   ]
  },
  {
   "cell_type": "code",
   "execution_count": 2,
   "id": "63c2e3c6",
   "metadata": {},
   "outputs": [
    {
     "name": "stderr",
     "output_type": "stream",
     "text": [
      "[*********************100%%**********************]  1 of 1 completed\n"
     ]
    }
   ],
   "source": [
    "# Download historical data from Yahoo Finance\n",
    "btc_data = yf.download('BTC-USD', start='2010-03-31', end='2024-01-26')"
   ]
  },
  {
   "cell_type": "code",
   "execution_count": 3,
   "id": "21534f06",
   "metadata": {
    "scrolled": true
   },
   "outputs": [
    {
     "name": "stdout",
     "output_type": "stream",
     "text": [
      "<class 'pandas.core.frame.DataFrame'>\n",
      "DatetimeIndex: 3418 entries, 2014-09-17 to 2024-01-25\n",
      "Data columns (total 6 columns):\n",
      " #   Column     Non-Null Count  Dtype  \n",
      "---  ------     --------------  -----  \n",
      " 0   Open       3418 non-null   float64\n",
      " 1   High       3418 non-null   float64\n",
      " 2   Low        3418 non-null   float64\n",
      " 3   Close      3418 non-null   float64\n",
      " 4   Adj Close  3418 non-null   float64\n",
      " 5   Volume     3418 non-null   int64  \n",
      "dtypes: float64(5), int64(1)\n",
      "memory usage: 186.9 KB\n"
     ]
    }
   ],
   "source": [
    "btc_data.info()"
   ]
  },
  {
   "cell_type": "code",
   "execution_count": 4,
   "id": "59bfc124",
   "metadata": {},
   "outputs": [],
   "source": [
    "# Save the data to a CSV file\n",
    "btc_data.to_csv('bitcoin_data.csv')"
   ]
  },
  {
   "cell_type": "code",
   "execution_count": 5,
   "id": "05949592",
   "metadata": {},
   "outputs": [],
   "source": [
    "# Load the data\n",
    "data = pd.read_csv('bitcoin_data.csv')"
   ]
  },
  {
   "cell_type": "code",
   "execution_count": 6,
   "id": "c70b0f80",
   "metadata": {},
   "outputs": [
    {
     "data": {
      "text/plain": [
       "Date         0\n",
       "Open         0\n",
       "High         0\n",
       "Low          0\n",
       "Close        0\n",
       "Adj Close    0\n",
       "Volume       0\n",
       "dtype: int64"
      ]
     },
     "execution_count": 6,
     "metadata": {},
     "output_type": "execute_result"
    }
   ],
   "source": [
    "data.isnull().sum()"
   ]
  },
  {
   "cell_type": "code",
   "execution_count": 7,
   "id": "343ca5c3",
   "metadata": {},
   "outputs": [],
   "source": [
    "# Data preprocessing\n",
    "# Assume you have columns like 'Open', 'High', 'Low', 'Close', 'Volume', etc.\n",
    "# Adjust this based on your actual dataset columns\n",
    "features = data[['Open', 'High', 'Low', 'Close', 'Volume']]\n",
    "target = data['Close']"
   ]
  },
  {
   "cell_type": "code",
   "execution_count": 8,
   "id": "7a6861fd",
   "metadata": {},
   "outputs": [
    {
     "data": {
      "text/plain": [
       "0    457.334015\n",
       "1    424.440002\n",
       "2    394.795990\n",
       "3    408.903992\n",
       "4    398.821014\n",
       "Name: Close, dtype: float64"
      ]
     },
     "execution_count": 8,
     "metadata": {},
     "output_type": "execute_result"
    }
   ],
   "source": [
    "target.head()"
   ]
  },
  {
   "cell_type": "code",
   "execution_count": 9,
   "id": "47dcc127",
   "metadata": {},
   "outputs": [],
   "source": [
    "# Split the data into training and testing sets\n",
    "X_train, X_test, y_train, y_test = train_test_split(features, target, test_size=0.2, random_state=42)"
   ]
  },
  {
   "cell_type": "code",
   "execution_count": 10,
   "id": "38ee1108",
   "metadata": {},
   "outputs": [],
   "source": [
    "# Random Forest Regression\n",
    "rf_model = RandomForestRegressor(n_estimators=500, max_depth=10, random_state=42)\n",
    "rf_model.fit(X_train, y_train)\n",
    "rf_predictions = rf_model.predict(X_test)"
   ]
  },
  {
   "cell_type": "code",
   "execution_count": 11,
   "id": "361c9b19",
   "metadata": {},
   "outputs": [],
   "source": [
    "# Evaluate model\n",
    "mape_rf = mean_absolute_percentage_error(y_test, rf_predictions)\n",
    "rmse_rf = mean_squared_error(y_test, rf_predictions, squared=False)\n"
   ]
  },
  {
   "cell_type": "code",
   "execution_count": 12,
   "id": "aed4c28e",
   "metadata": {},
   "outputs": [
    {
     "name": "stdout",
     "output_type": "stream",
     "text": [
      "Random Forest - MAPE: 0.0024696138969722346, RMSE: 71.35616143208789\n"
     ]
    }
   ],
   "source": [
    "print(f\"Random Forest - MAPE: {mape_rf}, RMSE: {rmse_rf}\")"
   ]
  },
  {
   "cell_type": "code",
   "execution_count": null,
   "id": "e3a2cfac",
   "metadata": {},
   "outputs": [],
   "source": []
  }
 ],
 "metadata": {
  "kernelspec": {
   "display_name": "Python 3 (ipykernel)",
   "language": "python",
   "name": "python3"
  },
  "language_info": {
   "codemirror_mode": {
    "name": "ipython",
    "version": 3
   },
   "file_extension": ".py",
   "mimetype": "text/x-python",
   "name": "python",
   "nbconvert_exporter": "python",
   "pygments_lexer": "ipython3",
   "version": "3.11.5"
  }
 },
 "nbformat": 4,
 "nbformat_minor": 5
}
